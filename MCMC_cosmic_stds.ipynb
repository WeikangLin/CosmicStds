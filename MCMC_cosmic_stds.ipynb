{
 "cells": [
  {
   "cell_type": "markdown",
   "metadata": {},
   "source": [
    "# This notebook deal with uncalibrated cosmic standard rulers and candles"
   ]
  },
  {
   "cell_type": "code",
   "execution_count": 2,
   "metadata": {},
   "outputs": [
    {
     "name": "stdout",
     "output_type": "stream",
     "text": [
      "GetDist Version: 1.1.2, Matplotlib version: 3.2.2\n"
     ]
    }
   ],
   "source": [
    "#Show plots inline, and load main getdist plot module and samples class\n",
    "### Need to run the following twice for some unknown reason. Otherwise plot wouldn't show\n",
    "from __future__ import print_function\n",
    "from IPython.display import display, Math\n",
    "import matplotlib\n",
    "%matplotlib inline\n",
    "%config InlineBackend.figure_format = 'retina'\n",
    "import sys, os\n",
    "sys.path.insert(0,os.path.realpath(os.path.join(os.getcwd(),'..')))\n",
    "from getdist import plots, MCSamples, loadMCSamples\n",
    "import getdist, IPython\n",
    "import pylab as plt\n",
    "print('GetDist Version: %s, Matplotlib version: %s'%(getdist.__version__, plt.matplotlib.__version__))\n",
    "#matplotlib 2 doesn't seem to work well without usetex on\n",
    "plt.rcParams['text.usetex']=True\n",
    "import numpy as np\n",
    "import WLbackground_cosmic_stds as BG\n",
    "import WLlikelihoods_cosmic_stds as LIKE\n",
    "import scipy.optimize as op\n",
    "import emcee\n",
    "from scipy import integrate\n",
    "import time\n",
    "from matplotlib import ticker, cm, patches, pyplot\n",
    "import pandas as pd\n"
   ]
  },
  {
   "cell_type": "code",
   "execution_count": null,
   "metadata": {},
   "outputs": [],
   "source": []
  },
  {
   "cell_type": "markdown",
   "metadata": {},
   "source": [
    "# Loading SNIa data:"
   ]
  },
  {
   "cell_type": "code",
   "execution_count": null,
   "metadata": {},
   "outputs": [],
   "source": [
    "pantheon_path='Pantheon_data/lcparam_full_long_zhel.txt'\n",
    "pantheon0 = pd.read_csv(pantheon_path, sep=\" \", header=0)\n",
    "pantheon = pantheon0[['name','zcmb','mb','dmb']]\n",
    "pantheon = pantheon.sort_values(by='zcmb')    # sort SNIa in a z-ascending order for the new algorithm\n",
    "pantheon = pantheon.reset_index()             # have to reset the index, otherwise the index is not sorted\n",
    "\n",
    "Npan = len(pantheon.zcmb)   # number of all SN\n",
    "z_obs = pantheon.zcmb       # redshift\n",
    "m_obs = pantheon.mb         # apparent magnitude\n",
    "dm_obs = pantheon.dmb       # uncertainty of m\n",
    "\n",
    "pan_sys=np.loadtxt(\"Pantheon_data/sys_full_long_sort.txt\")   # systematic errors, pre-sorted\n",
    "\n",
    "C_pan = pan_sys+np.diag(pantheon.dmb**2) # total errros, including statistic and systematic errors\n",
    "\n",
    "# Moore-Penrose pseudo-inverse\n",
    "invC_pan = np.linalg.inv(C_pan)    # CHECK! In case the inverse doesn't work"
   ]
  },
  {
   "cell_type": "code",
   "execution_count": null,
   "metadata": {},
   "outputs": [],
   "source": []
  },
  {
   "cell_type": "markdown",
   "metadata": {},
   "source": [
    "# Best fits to SNIa data:"
   ]
  },
  {
   "cell_type": "code",
   "execution_count": null,
   "metadata": {},
   "outputs": [],
   "source": [
    "start_time = time.time()\n",
    "\n",
    "nll = lambda *args: -LIKE.lnprob_SN(*args)   # load likelihood\n",
    "use_fast = True      # use fast likelihood or not       \n",
    "SN_data = pantheon\n",
    "invC = invC_pan\n",
    "\n",
    "result = op.minimize(nll, [24, 0.3], args=(SN_data,invC,use_fast))\n",
    "MH0_best = result[\"x\"][0]     # MH0=M-5log10(10pc*H0)  #c=1, this is the same as C in the likelihood functions\n",
    "# MH0 here is a combination of H0 and the absolute magnitude shifted to zero color and zero strecth. \n",
    "Om_best = result[\"x\"][1]\n",
    "print(\"Best fits: %2.6f, %1.7f\" % (MH0_best, Om_best))\n",
    "\n",
    "print(\"--- %s seconds ---\" % (time.time() - start_time))"
   ]
  },
  {
   "cell_type": "code",
   "execution_count": null,
   "metadata": {},
   "outputs": [],
   "source": []
  },
  {
   "cell_type": "markdown",
   "metadata": {},
   "source": [
    "# MCMC to SNIa likelihood:\n",
    "# In LCDM, SNIa likelihood has two parameters: MH0, Om"
   ]
  },
  {
   "cell_type": "code",
   "execution_count": null,
   "metadata": {},
   "outputs": [],
   "source": [
    "# Run the above best fits first:\n",
    "\n",
    "ndim, nwalkers, nstep = 2, 32, 500  # settings for emcee\n",
    "use_fast = True   # use the fast likelihood or not\n",
    "SN_data = pantheon\n",
    "invC = invC_pan\n",
    "\n",
    "# set the path/file to save the chain:\n",
    "save_chain_file = 'chains/Fast1_walkers'+str(nwalkers)+'_step'+str(nstep)+'.csv'\n",
    "    \n",
    "# MCMC \n",
    "pos = [[MH0_best*(1+0.0004*np.random.randn()),Om_best*(1+0.01*np.random.randn())] for i in range(nwalkers)]\n",
    "\n",
    "sampler_SN=emcee.EnsembleSampler(nwalkers, ndim, LIKE.lnprob_SN, args=(SN_data,invC,use_fast))\n",
    "sampler_SN.run_mcmc(pos, nstep, progress=True,);\n",
    "\n",
    "samples_SN = sampler_SN.chain[:, 50:, :].reshape((-1, ndim))   #filter out first XXX rows\n",
    "\n",
    "np.savetxt(save_chain_file, samples_SN, delimiter=',')"
   ]
  },
  {
   "cell_type": "markdown",
   "metadata": {},
   "source": [
    "# Caculate summary statistics to SN likelihood:"
   ]
  },
  {
   "cell_type": "code",
   "execution_count": null,
   "metadata": {},
   "outputs": [],
   "source": [
    "load_chain_file = save_chain_file  # choose file to load\n",
    "samples = np.loadtxt(load_chain_file,delimiter=\",\")\n",
    "\n",
    "# Saving Median and upper and lower limits\n",
    "MH0_median_low_high, Om_median_low_high = map(lambda v: ((v[1], v[2]-v[1], v[1]-v[0])), \n",
    "                           zip(*np.percentile(samples, [16, 50, 84], axis=0))) # median + upper - lower\n",
    "    \n",
    "# Saving means and uncertainty\n",
    "MH0_mean, Om_mean = np.mean(samples,axis=0)\n",
    "MH0_std, Om_std = np.std(samples,axis=0)\n",
    "    \n",
    "print('Median+upper-lower:')\n",
    "# display median + upper -lower of C\n",
    "for MEDIAN, PARAM in zip([MH0_median_low_high, Om_median_low_high], \n",
    "                         ['M-5\\log_{10}(10{\\\\rm{pc}}\\\\times H_0)','\\Omega_{\\mathrm{m}}']):\n",
    "    txt = \"{3} = {{{0: 2.3f}}}^{{+{1: .3f}}}_{{-{2: .3f}}}\"\n",
    "    txt = txt.format(MEDIAN[0], MEDIAN[1], MEDIAN[2], PARAM)\n",
    "    display(Math(txt))\n",
    "\n",
    "# display mean+-uncertainty\n",
    "print('Mean+-uncertainty:')\n",
    "for MEAN, STD, PARAM in zip([MH0_mean, Om_mean], [MH0_std, Om_std],\n",
    "                            ['M-5\\log_{10}(10{\\\\rm{pc}}\\\\times H_0)', '\\Omega_{\\mathrm{m}}']):\n",
    "    txt = \"{2} = {0: 2.3f}\\pm{1: .3f}\"\n",
    "    txt = txt.format(MEAN, STD, PARAM)\n",
    "    display(Math(txt))"
   ]
  },
  {
   "cell_type": "code",
   "execution_count": null,
   "metadata": {},
   "outputs": [],
   "source": [
    "names = [r'MH0', 'Omegam']    # put parameters here\n",
    "labels =  [r'$M-5\\log_{10}(10{\\rm{pc}}\\times H_0)$',r'$\\Omega_m$']    # label parameters here\n",
    "MCsamples = MCSamples(samples=samples,names = names, labels = labels)\n",
    "g = plots.getSinglePlotter(width_inch=5, ratio=1)\n",
    "g.triangle_plot(MCsamples, ['MH0','Omegam'],shaded=True)\n",
    "g.export(os.path.join(r'figures',r'pantheon_C_Om.pdf'))"
   ]
  },
  {
   "cell_type": "code",
   "execution_count": null,
   "metadata": {},
   "outputs": [],
   "source": []
  },
  {
   "cell_type": "markdown",
   "metadata": {},
   "source": [
    "# BAO data likelihood"
   ]
  },
  {
   "cell_type": "markdown",
   "metadata": {},
   "source": [
    "# Best fit to BAO"
   ]
  },
  {
   "cell_type": "code",
   "execution_count": 51,
   "metadata": {},
   "outputs": [
    {
     "name": "stderr",
     "output_type": "stream",
     "text": [
      "/opt/anaconda3/lib/python3.8/site-packages/scipy/optimize/_numdiff.py:497: RuntimeWarning: invalid value encountered in subtract\n",
      "  df = fun(x) - f0\n"
     ]
    },
    {
     "name": "stdout",
     "output_type": "stream",
     "text": [
      "Best fits: 0.033743, 0.2944976\n",
      "--- 0.43384289741516113 seconds ---\n"
     ]
    }
   ],
   "source": [
    "start_time = time.time()\n",
    "\n",
    "nll = lambda *args: -LIKE.lnprob_BAO(*args)   # load likelihood\n",
    "BAO_data_path='BAO_data/'\n",
    "BAO_datasets = ['6df','DR7_MGS','DR12_consensus','DR14_qsar','DR14_lya_qsar','DR14p845']\n",
    "\n",
    "result = op.minimize(nll, [0.034, 0.3], args=(BAO_data_path,BAO_datasets))\n",
    "rdH0_best = result[\"x\"][0]     # MH0=M-5log10(10pc*H0)  #c=1, this is the same as C in the likelihood functions\n",
    "# MH0 here is a combination of H0 and the absolute magnitude shifted to zero color and zero strecth. \n",
    "Om_best = result[\"x\"][1]\n",
    "print(\"Best fits: %2.6f, %1.7f\" % (rdH0_best, Om_best))\n",
    "\n",
    "print(\"--- %s seconds ---\" % (time.time() - start_time))"
   ]
  },
  {
   "cell_type": "markdown",
   "metadata": {},
   "source": [
    "# MCMC to BAO:\n",
    "# Late-time BAO has two parameters: rdH0 and Om"
   ]
  },
  {
   "cell_type": "code",
   "execution_count": 52,
   "metadata": {},
   "outputs": [
    {
     "name": "stderr",
     "output_type": "stream",
     "text": [
      "100%|██████████| 2000/2000 [06:27<00:00,  5.16it/s]\n"
     ]
    },
    {
     "ename": "FileNotFoundError",
     "evalue": "[Errno 2] No such file or directory: 'chains/BAO/BAO_walkers64_step2000.csv'",
     "output_type": "error",
     "traceback": [
      "\u001b[0;31m---------------------------------------------------------------------------\u001b[0m",
      "\u001b[0;31mFileNotFoundError\u001b[0m                         Traceback (most recent call last)",
      "\u001b[0;32m<ipython-input-52-324a8de74165>\u001b[0m in \u001b[0;36m<module>\u001b[0;34m\u001b[0m\n\u001b[1;32m     15\u001b[0m \u001b[0msamples_BAO\u001b[0m \u001b[0;34m=\u001b[0m \u001b[0msampler_BAO\u001b[0m\u001b[0;34m.\u001b[0m\u001b[0mchain\u001b[0m\u001b[0;34m[\u001b[0m\u001b[0;34m:\u001b[0m\u001b[0;34m,\u001b[0m \u001b[0;36m50\u001b[0m\u001b[0;34m:\u001b[0m\u001b[0;34m,\u001b[0m \u001b[0;34m:\u001b[0m\u001b[0;34m]\u001b[0m\u001b[0;34m.\u001b[0m\u001b[0mreshape\u001b[0m\u001b[0;34m(\u001b[0m\u001b[0;34m(\u001b[0m\u001b[0;34m-\u001b[0m\u001b[0;36m1\u001b[0m\u001b[0;34m,\u001b[0m \u001b[0mndim\u001b[0m\u001b[0;34m)\u001b[0m\u001b[0;34m)\u001b[0m   \u001b[0;31m#filter out first XXX rows\u001b[0m\u001b[0;34m\u001b[0m\u001b[0;34m\u001b[0m\u001b[0m\n\u001b[1;32m     16\u001b[0m \u001b[0;34m\u001b[0m\u001b[0m\n\u001b[0;32m---> 17\u001b[0;31m \u001b[0mnp\u001b[0m\u001b[0;34m.\u001b[0m\u001b[0msavetxt\u001b[0m\u001b[0;34m(\u001b[0m\u001b[0msave_chain_file_BAO\u001b[0m\u001b[0;34m,\u001b[0m \u001b[0msamples_BAO\u001b[0m\u001b[0;34m,\u001b[0m \u001b[0mdelimiter\u001b[0m\u001b[0;34m=\u001b[0m\u001b[0;34m','\u001b[0m\u001b[0;34m)\u001b[0m\u001b[0;34m\u001b[0m\u001b[0;34m\u001b[0m\u001b[0m\n\u001b[0m",
      "\u001b[0;32m<__array_function__ internals>\u001b[0m in \u001b[0;36msavetxt\u001b[0;34m(*args, **kwargs)\u001b[0m\n",
      "\u001b[0;32m/opt/anaconda3/lib/python3.8/site-packages/numpy/lib/npyio.py\u001b[0m in \u001b[0;36msavetxt\u001b[0;34m(fname, X, fmt, delimiter, newline, header, footer, comments, encoding)\u001b[0m\n\u001b[1;32m   1375\u001b[0m     \u001b[0;32mif\u001b[0m \u001b[0m_is_string_like\u001b[0m\u001b[0;34m(\u001b[0m\u001b[0mfname\u001b[0m\u001b[0;34m)\u001b[0m\u001b[0;34m:\u001b[0m\u001b[0;34m\u001b[0m\u001b[0;34m\u001b[0m\u001b[0m\n\u001b[1;32m   1376\u001b[0m         \u001b[0;31m# datasource doesn't support creating a new file ...\u001b[0m\u001b[0;34m\u001b[0m\u001b[0;34m\u001b[0m\u001b[0;34m\u001b[0m\u001b[0m\n\u001b[0;32m-> 1377\u001b[0;31m         \u001b[0mopen\u001b[0m\u001b[0;34m(\u001b[0m\u001b[0mfname\u001b[0m\u001b[0;34m,\u001b[0m \u001b[0;34m'wt'\u001b[0m\u001b[0;34m)\u001b[0m\u001b[0;34m.\u001b[0m\u001b[0mclose\u001b[0m\u001b[0;34m(\u001b[0m\u001b[0;34m)\u001b[0m\u001b[0;34m\u001b[0m\u001b[0;34m\u001b[0m\u001b[0m\n\u001b[0m\u001b[1;32m   1378\u001b[0m         \u001b[0mfh\u001b[0m \u001b[0;34m=\u001b[0m \u001b[0mnp\u001b[0m\u001b[0;34m.\u001b[0m\u001b[0mlib\u001b[0m\u001b[0;34m.\u001b[0m\u001b[0m_datasource\u001b[0m\u001b[0;34m.\u001b[0m\u001b[0mopen\u001b[0m\u001b[0;34m(\u001b[0m\u001b[0mfname\u001b[0m\u001b[0;34m,\u001b[0m \u001b[0;34m'wt'\u001b[0m\u001b[0;34m,\u001b[0m \u001b[0mencoding\u001b[0m\u001b[0;34m=\u001b[0m\u001b[0mencoding\u001b[0m\u001b[0;34m)\u001b[0m\u001b[0;34m\u001b[0m\u001b[0;34m\u001b[0m\u001b[0m\n\u001b[1;32m   1379\u001b[0m         \u001b[0mown_fh\u001b[0m \u001b[0;34m=\u001b[0m \u001b[0;32mTrue\u001b[0m\u001b[0;34m\u001b[0m\u001b[0;34m\u001b[0m\u001b[0m\n",
      "\u001b[0;31mFileNotFoundError\u001b[0m: [Errno 2] No such file or directory: 'chains/BAO/BAO_walkers64_step2000.csv'"
     ]
    }
   ],
   "source": [
    "# Run the above best fits first:\n",
    "\n",
    "ndim, nwalkers, nstep = 2, 64, 2000  # settings for emcee\n",
    "BAO_data_path='BAO_data/'\n",
    "BAO_datasets = ['6df','DR7_MGS','DR12_consensus','DR14_qsar','DR14_lya_qsar','DR14p845']\n",
    "\n",
    "# set the path/file to save the chain:\n",
    "save_chain_file_BAO = 'chains/BAO_only/BAO_walkers'+str(nwalkers)+'_step'+str(nstep)+'.csv'\n",
    "    \n",
    "# MCMC \n",
    "pos = [[rdH0_best*(1+0.01*np.random.randn()),Om_best*(1+0.06*np.random.randn())] for i in range(nwalkers)]\n",
    "\n",
    "sampler_BAO=emcee.EnsembleSampler(nwalkers, ndim, LIKE.lnprob_BAO, args=(BAO_data_path,BAO_datasets))\n",
    "sampler_BAO.run_mcmc(pos, nstep, progress=True,);\n",
    "samples_BAO = sampler_BAO.chain[:, 50:, :].reshape((-1, ndim))   #filter out first XXX rows\n",
    "\n",
    "np.savetxt(save_chain_file_BAO, samples_BAO, delimiter=',')"
   ]
  },
  {
   "cell_type": "markdown",
   "metadata": {},
   "source": [
    "# Calculate Summary statistics:"
   ]
  },
  {
   "cell_type": "code",
   "execution_count": 56,
   "metadata": {},
   "outputs": [
    {
     "name": "stdout",
     "output_type": "stream",
     "text": [
      "Median+upper-lower:\n"
     ]
    },
    {
     "data": {
      "text/latex": [
       "$\\displaystyle r_{\\rm{d}}H_0 = { 0.0337}^{+ 0.0004}_{- 0.0004}$"
      ],
      "text/plain": [
       "<IPython.core.display.Math object>"
      ]
     },
     "metadata": {},
     "output_type": "display_data"
    },
    {
     "data": {
      "text/latex": [
       "$\\displaystyle \\Omega_{\\mathrm{m}} = { 0.2955}^{+ 0.0175}_{- 0.0169}$"
      ],
      "text/plain": [
       "<IPython.core.display.Math object>"
      ]
     },
     "metadata": {},
     "output_type": "display_data"
    },
    {
     "name": "stdout",
     "output_type": "stream",
     "text": [
      "Mean+-uncertainty:\n"
     ]
    },
    {
     "data": {
      "text/latex": [
       "$\\displaystyle  r_{\\rm{d}}H_0 =  0.03372\\pm 0.00043$"
      ],
      "text/plain": [
       "<IPython.core.display.Math object>"
      ]
     },
     "metadata": {},
     "output_type": "display_data"
    },
    {
     "data": {
      "text/latex": [
       "$\\displaystyle \\Omega_{\\mathrm{m}} =  0.29582\\pm 0.01729$"
      ],
      "text/plain": [
       "<IPython.core.display.Math object>"
      ]
     },
     "metadata": {},
     "output_type": "display_data"
    }
   ],
   "source": [
    "load_chain_file = save_chain_file_BAO  # choose file to load\n",
    "samples = np.loadtxt(load_chain_file,delimiter=\",\")\n",
    "\n",
    "# Saving Median and upper and lower limits\n",
    "rdH0_median_low_high, Om_median_low_high = map(lambda v: ((v[1], v[2]-v[1], v[1]-v[0])), \n",
    "                           zip(*np.percentile(samples, [16, 50, 84], axis=0))) # median + upper - lower\n",
    "    \n",
    "# Saving means and uncertainty\n",
    "rdH0_mean, Om_mean = np.mean(samples,axis=0)\n",
    "rdH0_std, Om_std= np.std(samples,axis=0)\n",
    "    \n",
    "print('Median+upper-lower:')\n",
    "# display median + upper -lower of rdH0\n",
    "for MEDIAN, PARAM in zip([rdH0_median_low_high, Om_median_low_high], ['r_{\\\\rm{d}}H_0',\n",
    "                                                                     '\\Omega_{\\mathrm{m}}']):\n",
    "    txt = \"{3} = {{{0: 2.4f}}}^{{+{1: .4f}}}_{{-{2: .4f}}}\"\n",
    "    txt = txt.format(MEDIAN[0], MEDIAN[1], MEDIAN[2], PARAM)\n",
    "    display(Math(txt))\n",
    "\n",
    "# display mean+-uncertainty\n",
    "print('Mean+-uncertainty:')\n",
    "for MEAN, STD, PARAM in zip([rdH0_mean, Om_mean], [rdH0_std, Om_std], [' r_{\\\\rm{d}}H_0', '\\Omega_{\\mathrm{m}}']):\n",
    "    txt = \"{2} = {0: 2.5f}\\pm{1: .5f}\"\n",
    "    txt = txt.format(MEAN, STD, PARAM)\n",
    "    display(Math(txt))"
   ]
  },
  {
   "cell_type": "markdown",
   "metadata": {},
   "source": [
    "# Plotting BAO MCMC:"
   ]
  },
  {
   "cell_type": "code",
   "execution_count": null,
   "metadata": {},
   "outputs": [],
   "source": [
    "names = [r'rdH0', 'Omegam']    # put parameters here\n",
    "labels =  [r'$r_{\\rm{d}}H_0$',r'$\\Omega_m$']    # label parameters here\n",
    "MCsamples = MCSamples(samples=samples,names = names, labels = labels)\n",
    "g = plots.getSinglePlotter(width_inch=5, ratio=1)\n",
    "g.triangle_plot(MCsamples, names, shaded=True)\n",
    "g.export(os.path.join(r'figures',r'BAO_rdH0_Om.pdf'))"
   ]
  },
  {
   "cell_type": "code",
   "execution_count": null,
   "metadata": {},
   "outputs": [],
   "source": []
  },
  {
   "cell_type": "code",
   "execution_count": null,
   "metadata": {},
   "outputs": [],
   "source": []
  },
  {
   "cell_type": "markdown",
   "metadata": {},
   "source": [
    "# CMB theta:\n",
    "# This has three parameters: z_re, rsH0, Om"
   ]
  },
  {
   "cell_type": "code",
   "execution_count": null,
   "metadata": {},
   "outputs": [],
   "source": [
    "# MCMC to CMB theta alone\n",
    "\n",
    "ndim, nwalkers, nstep = 3, 32, 400  # settings for emcee\n",
    "CMB_means = np.loadtxt('CMB_theta/CMB_theta_means.txt') # z_re, theta (R optional)\n",
    "CMB_Cov = np.loadtxt('CMB_theta/CMB_theta_Cov.txt')\n",
    "CMB_invC = np.linalg.inv(CMB_Cov)\n",
    "\n",
    "# set the path/file to save the chain:\n",
    "save_chain_file = 'CMB_theta/chains/CMB_walkers'+str(nwalkers)+'_step'+str(nstep)+'.csv'\n",
    "\n",
    "    \n",
    "# MCMC \n",
    "pos = [[1089*(1+0.001*np.random.randn()),\n",
    "        0.03307*(1+0.01*np.random.randn()),0.3*(1+0.01*np.random.randn())] for i in range(nwalkers)]\n",
    "\n",
    "sampler_CMB=emcee.EnsembleSampler(nwalkers, ndim, LIKE.lnprob_CMB, args=(CMB_means,CMB_invC))\n",
    "sampler_CMB.run_mcmc(pos, nstep, progress=True,);\n",
    "samples_CMB = sampler_CMB.chain[:, 50:, :].reshape((-1, ndim))   #filter out first XXX rows\n",
    "\n",
    "np.savetxt(save_chain_file, samples_CMB, delimiter=',')"
   ]
  },
  {
   "cell_type": "code",
   "execution_count": null,
   "metadata": {},
   "outputs": [],
   "source": [
    "load_chain_file = save_chain_file  # choose file to load\n",
    "samples = np.loadtxt(load_chain_file,delimiter=\",\")\n",
    "names = ['zstar','rsH0', 'Omegam']    # put parameters here\n",
    "labels =  [r'$z_*$',r'$r_{\\rm{s}}H_0$',r'$\\Omega_m$']    # label parameters here\n",
    "MCsamples = MCSamples(samples=samples,names = names, labels = labels)\n",
    "g = plots.getSinglePlotter(width_inch=5, ratio=1)\n",
    "g.plot_2d([MCsamples], 'rsH0', 'Omegam', shaded=True)\n",
    "g.export(os.path.join(r'figures',r'CMB_rsH0_Om.pdf'))"
   ]
  },
  {
   "cell_type": "code",
   "execution_count": null,
   "metadata": {},
   "outputs": [],
   "source": []
  },
  {
   "cell_type": "code",
   "execution_count": null,
   "metadata": {},
   "outputs": [],
   "source": []
  },
  {
   "cell_type": "markdown",
   "metadata": {},
   "source": [
    "# Combined analysis:"
   ]
  },
  {
   "cell_type": "code",
   "execution_count": null,
   "metadata": {},
   "outputs": [],
   "source": [
    "# load SN data\n",
    "pantheon_path='Pantheon_data/lcparam_full_long_zhel.txt'\n",
    "pantheon0 = pd.read_csv(pantheon_path, sep=\" \", header=0)\n",
    "pantheon = pantheon0[['name','zcmb','mb','dmb']]\n",
    "pantheon = pantheon.sort_values(by='zcmb')    # sort SNIa in a z-ascending order for the new algorithm\n",
    "pantheon = pantheon.reset_index()             # have to reset the index, otherwise the index is not sorted\n",
    "Npan = len(pantheon.zcmb)   # number of all SN\n",
    "pan_sys=np.loadtxt(\"Pantheon_data/sys_full_long_sort.txt\")   # systematic errors\n",
    "C_pan = pan_sys+np.diag(pantheon.dmb**2) # including systematic errors\n",
    "invC_pan = np.linalg.inv(C_pan)\n",
    "\n",
    "# load BAO data\n",
    "#BAO_data_path='BAO_data/'\n",
    "#BAO_datasets = ['6df','DR7_MGS','DR12_consensus','DR14_qsar','DR14_lya_qsar','DR14p845']\n",
    "\n",
    "# load CMB theta\n",
    "CMB_means = np.loadtxt('CMB_theta/CMB_theta_means.txt')\n",
    "CMB_Cov = np.loadtxt('CMB_theta/CMB_theta_Cov.txt')\n",
    "CMB_invC = np.linalg.inv(CMB_Cov)"
   ]
  },
  {
   "cell_type": "code",
   "execution_count": null,
   "metadata": {},
   "outputs": [],
   "source": []
  },
  {
   "cell_type": "code",
   "execution_count": null,
   "metadata": {},
   "outputs": [],
   "source": [
    "# Define the combined likelihoods\n",
    "\n",
    "def lnprior_combined(theta): # keep the order of theta to be zstar, rsH0, MH0, Om, h, DeltarH0, m_v1\n",
    "    if len(theta)==6:\n",
    "        if 1070<theta[0]<1120 and 0.01<theta[1]<0.1 and 17<theta[2]<30 and 0.01<theta[3]<0.99 and 0.55<theta[4]<0.88 and 5.E-4<theta[5]<7.E-4:\n",
    "            return 0.0\n",
    "    if len(theta)==7:\n",
    "        if 1070<theta[0]<1120 and 0.01<theta[1]<0.1 and 17<theta[2]<30 and 0.01<theta[3]<0.99 and 0.55<theta[4]<0.88 and 5.E-4<theta[5]<7.E-4 and 0.0002<theta[5]<1.0:\n",
    "            return 0.0\n",
    "    return -np.inf\n",
    "\n",
    "def lnprob_stds(theta,SN_input,BAO_input,CMB_input,CC_input):\n",
    "    SN_data, invC = SN_input   # use fast SN likelihood by default\n",
    "    BAO_data_path, BAO_datasets = BAO_input\n",
    "    CMB_means, CMB_invC = CMB_input\n",
    "    use_CC,CC_path = CC_input\n",
    "    if len(theta)==6:\n",
    "        zstar_fit, rsH0_fit, MH0_fit, Om_fit, h_fit, DeltarH0_fit = theta\n",
    "        m_v1_fit=0.0\n",
    "        #rdH0_derived = rsH0_fit+BG.Delta_rH0(zstar_fit,29.98,Om_fit,h_fit) \n",
    "        # Deltaz is set to be 29.98, need further consideration\n",
    "        rdH0_derived = rsH0_fit+DeltarH0_fit # used a prior on Deltar instead\n",
    "        theta_SN = [MH0_fit, Om_fit, h_fit]\n",
    "        theta_BAO = [rdH0_derived, Om_fit, h_fit]\n",
    "        theta_CMB = [zstar_fit, rsH0_fit, Om_fit, h_fit]\n",
    "    if len(theta)==7:\n",
    "        zstar_fit, rsH0_fit, MH0_fit, Om_fit, h_fit, DeltarH0_fit, m_v1_fit = theta\n",
    "        #rdH0_derived = rsH0_fit+BG.Delta_rH0(zstar_fit,29.98,Om_fit,h_fit,m_v1_fit)\n",
    "        rdH0_derived = rsH0_fit+DeltarH0_fit # used a prior on DeltarH0 instead\n",
    "        theta_SN = [MH0_fit, Om_fit, h_fit, m_v1_fit]\n",
    "        theta_BAO = [rdH0_derived, Om_fit, h_fit, m_v1_fit]\n",
    "        theta_CMB = [zstar_fit, rsH0_fit, Om_fit, h_fit, m_v1_fit]\n",
    "        \n",
    "    lp = lnprior_combined(theta)\n",
    "    if not np.isfinite(lp):\n",
    "        return -np.inf\n",
    "    lp += LIKE.lnlike_SN_fast(theta_SN, SN_data, invC)\n",
    "    lp += LIKE.lnlike_BAO(theta_BAO, BAO_data_path, BAO_datasets)\n",
    "    lp += LIKE.lnlike_CMB(theta_CMB, CMB_means, CMB_invC)\n",
    "    lp += -0.5*(DeltarH0_fit-5.9707175E-4)**2/(1E-5)**2  # some model insensitive prior on Deltar \n",
    "    \n",
    "    if use_CC==True:\n",
    "        chronometers = np.loadtxt(CC_path)\n",
    "        Hz = BG.Hz(chronometers[:,0], h_fit*100, Om_fit)\n",
    "        lp += -0.5*(np.sum((Hz-chronometers[:,1])**2/chronometers[:,2]**2))\n",
    "        \n",
    "    return lp\n",
    "    "
   ]
  },
  {
   "cell_type": "code",
   "execution_count": 64,
   "metadata": {},
   "outputs": [],
   "source": [
    "# This is the define treatment\n",
    "# Define the default combined likelihoods \n",
    "\n",
    "def lnprob_stds_default(theta,SN_input,BAO_input,CMB_input,CC_input):\n",
    "    SN_data, invC = SN_input   # use fast SN likelihood by default\n",
    "    BAO_data_path, BAO_datasets = BAO_input\n",
    "    CMB_means, CMB_invC, Deltazrec_obs, dDeltazrec_obs = CMB_input\n",
    "    use_CC,CC_path = CC_input\n",
    "    zstar_fit, rsH0_fit, MH0_fit, Om_fit, h_fit, Deltazrec, omegabh2 = theta\n",
    "    m_v1_fit=0.0  # normal hierachy, lowest mass =0 \n",
    "    \n",
    "    lp = 0.0\n",
    "    # priors: keep the order of theta to be zstar, rsH0, MH0, Om, h, Deltazrec, omegabh2\n",
    "    if not (1070<theta[0]<1120 and 0.01<theta[1]<0.1 and 17<theta[2]<30 and \\\n",
    "              0.01<theta[3]<0.99 and 0.6<theta[4]<0.8 and \\\n",
    "              20<theta[5]<40 and 0.01<theta[6]<0.04):\n",
    "        return -np.inf\n",
    "    rdH0_derived = rsH0_fit+BG.Delta_rH0(zstar_fit,Deltazrec,Om_fit,h_fit,omegabh2) \n",
    "    lp += -0.5*(Deltazrec-Deltazrec_obs)**2/(dDeltazrec_obs)**2  \n",
    "    lp += -0.5*(omegabh2-0.0222)**2/0.0005**2\n",
    "    \n",
    "    theta_SN = [MH0_fit, Om_fit, h_fit]\n",
    "    theta_BAO = [rdH0_derived, Om_fit, h_fit]\n",
    "    theta_CMB = [zstar_fit, rsH0_fit, Om_fit, h_fit]\n",
    "   \n",
    "    lp += LIKE.lnlike_SN_fast(theta_SN, SN_data, invC)\n",
    "    lp += LIKE.lnlike_BAO(theta_BAO, BAO_data_path, BAO_datasets)\n",
    "    lp += LIKE.lnlike_CMB(theta_CMB, CMB_means, CMB_invC)\n",
    "    \n",
    "    if use_CC==True:\n",
    "        chronometers = np.loadtxt(CC_path)\n",
    "        Hz = BG.Hz(chronometers[:,0], h_fit*100, Om_fit)\n",
    "        lp += -0.5*(np.sum((Hz-chronometers[:,1])**2/chronometers[:,2]**2))\n",
    "        \n",
    "    return lp\n",
    "    "
   ]
  },
  {
   "cell_type": "code",
   "execution_count": null,
   "metadata": {},
   "outputs": [],
   "source": []
  },
  {
   "cell_type": "markdown",
   "metadata": {},
   "source": [
    "# Combined MCMC"
   ]
  },
  {
   "cell_type": "markdown",
   "metadata": {},
   "source": [
    "# Use default treatment on the difference of sound horizon:"
   ]
  },
  {
   "cell_type": "code",
   "execution_count": 149,
   "metadata": {},
   "outputs": [
    {
     "name": "stderr",
     "output_type": "stream",
     "text": [
      "100%|██████████| 3000/3000 [59:36<00:00,  1.19s/it] \n"
     ]
    }
   ],
   "source": [
    "ndim, nwalkers, nstep = 7, 64, 3000  # settings for emcee\n",
    "# set the path/file to save the chain:\n",
    "save_chain_file = 'chains/Default/ACTtheta_BAO/All_BAO_butconsensus_SN_'+str(nwalkers)+'_step'+str(nstep)+'.csv'\n",
    "\n",
    "SN_input=[pantheon,invC_pan]\n",
    "BAO_input= ['BAO_data/',['6df','DR7_MGS','DR14p845','DR14_qsar','DR14_lya_qsar']]\n",
    "CMB_means = np.loadtxt('CMB_theta/ACT_theta_means.txt') # z_re, theta (R optional)\n",
    "CMB_Cov = np.loadtxt('CMB_theta/ACT_theta_Cov.txt')\n",
    "CMB_invC = np.linalg.inv(CMB_Cov)\n",
    "# some model insensitive prior on Dltazrec \n",
    "# 3.0025609E+01+-5.4452421E-01 for Planck\n",
    "# 2.9952195E+01+-7.5056623E-01 for ACT+WMAP\n",
    "CMB_input= [CMB_means,CMB_invC,2.9952195E+01,7.5056623E-01]\n",
    "CC_input=[False,'./CC_data/CC_with_ExtraError.txt']\n",
    "# MCMC \n",
    "pos = [[1089.0*(1+0.0002*np.random.randn()),   # z_rec\n",
    "        0.033*(1+0.0005*np.random.randn()),    # rsH0\n",
    "        23.809306*(1+0.0003*np.random.randn()),   # MH0\n",
    "        0.3*(1+0.0003*np.random.randn()),         # Omegam\n",
    "        0.7*(1+0.002*np.random.randn()),          # h\n",
    "        30*(1+0.002*np.random.randn()),           # Deltaz_decoupling\n",
    "        0.0222*(1+0.002*np.random.randn())] for i in range(nwalkers)]       # omegabh2\n",
    "\n",
    "sampler_combined=emcee.EnsembleSampler(nwalkers, ndim, lnprob_stds_default, \n",
    "                                       args=(SN_input,BAO_input,CMB_input,CC_input))\n",
    "sampler_combined.run_mcmc(pos, nstep, progress=True,);\n",
    "samples_combined = sampler_combined.chain[:, 100:, :].reshape((-1, ndim))   #filter out first XXX rows\n",
    "np.savetxt(save_chain_file, samples_combined, delimiter=',')"
   ]
  },
  {
   "cell_type": "code",
   "execution_count": null,
   "metadata": {},
   "outputs": [],
   "source": []
  },
  {
   "cell_type": "code",
   "execution_count": null,
   "metadata": {},
   "outputs": [],
   "source": [
    "load_chain_file = save_chain_file  # choose file to load\n",
    "samples = np.loadtxt(load_chain_file,delimiter=\",\")\n",
    "\n",
    "# Saving Median and upper and lower limits\n",
    "zstar_medianstat,rsH0_medianstat,MH0_medianstat,Om_medianstat,h_medianstat,\\\n",
    "            Deltazrec_mediansta, omegabh2_medianstat = map(lambda v: ((v[1], \\\n",
    "            v[2]-v[1], v[1]-v[0])), zip(*np.percentile(samples, [16, 50, 84], axis=0))) # median + upper - lower\n",
    "    \n",
    "# Saving means and uncertainty\n",
    "zstar_mean,rsH0_mean,MH0_mean,Om_mean,h_mean,Deltazrec_mean,omegabh2_mean = np.mean(samples,axis=0)\n",
    "zstar_std,rsH0_std,MH0_std,Om_std,h_std,Deltazrec_mean,omegabh2_mean = np.std(samples,axis=0)\n",
    "    \n",
    "print('Median+upper-lower:')\n",
    "# display median + upper -lower of rdH0\n",
    "for MEDIAN, PARAM in zip([Om_medianstat,h_medianstat], ['\\Omega_{\\mathrm{m}}','h']):\n",
    "    txt = \"{3} = {{{0: 2.4f}}}^{{+{1: .4f}}}_{{-{2: .4f}}}\"\n",
    "    txt = txt.format(MEDIAN[0], MEDIAN[1], MEDIAN[2], PARAM)\n",
    "    display(Math(txt))\n",
    "\n",
    "# display mean+-uncertainty\n",
    "print('Mean+-uncertainty:')\n",
    "for MEAN, STD, PARAM in zip([Om_mean,h_mean], [Om_std,h_std], ['\\Omega_{\\mathrm{m}}','h']):\n",
    "    txt = \"{2} = {0: 2.3f}\\pm{1: .3f}\"\n",
    "    txt = txt.format(MEAN, STD, PARAM)\n",
    "    display(Math(txt))"
   ]
  },
  {
   "cell_type": "code",
   "execution_count": null,
   "metadata": {},
   "outputs": [],
   "source": [
    "load_chain_file = save_chain_file # choose file to load\n",
    "samples = np.loadtxt(load_chain_file,delimiter=\",\")\n",
    "names = ['zstar','rsH0', 'MH0','omegam','h','Deltazrec','omegabh2']    # put parameters here\n",
    "labels =  [r'z_*',r'r_{\\rm{s}}H_0',r'\\mathcal{M}',r'\\Omega_m',r'h',r'\\Delta z_{dec}','\\Omega_b h^2']\n",
    "MCsamples = MCSamples(samples=samples,names = names, labels = labels,ranges={'h':(0.55, 0.88)},\n",
    "                      label='Uncalibrated Cosmic Standards')\n",
    "p = MCsamples.getParams() \n",
    "MCsamples.addDerived(p.h*100, name='H0', label=r'$H_0$',range=[55,88])\n",
    "Delta_rH0s=[]\n",
    "for xa,xb,xc,xd,xe in zip(p.zstar,p.Deltazrec,p.omegam,p.h,p.omegabh2):\n",
    "     Delta_rH0s.append(BG.Delta_rH0(xa,xb,xc,xd,xe))  \n",
    "MCsamples.addDerived(np.array(Delta_rH0s),name='DeltarsH0', label=r'$\\Delta r_sH_0$')\n",
    "g = plots.getSinglePlotter(width_inch=8, ratio=1)\n",
    "g.triangle_plot(MCsamples, ['rsH0', 'MH0','omegam'] , shaded=True)\n",
    "g.export(os.path.join(r'figures',r'Combined.pdf'))"
   ]
  },
  {
   "cell_type": "code",
   "execution_count": null,
   "metadata": {},
   "outputs": [],
   "source": []
  },
  {
   "cell_type": "code",
   "execution_count": null,
   "metadata": {},
   "outputs": [],
   "source": [
    "PathExtra='/Users/weikanglin/Documents/Documents NCSU/Projects/3STDs/chains_new/'\n",
    "g = plots.getSinglePlotter(width_inch=5, ratio=0.8)\n",
    "g.settings.alpha_filled_add=0.5\n",
    "#g.add_y_bands(0.298, 0.022, alpha1=0.2,alpha2=0.2,color='grey',zorder=1)\n",
    "g.add_x_bands(74.03, 1.42, alpha1=0.4,alpha2=0.2, color='yellow',zorder=1) \n",
    "#g.add_x_bands(69.6, 1.88, alpha1=0.3,alpha2=0.23, color='pink',zorder=1) \n",
    "g.plot_2d([MCsamples], 'H0', 'omegam',filled=True,zorder=2)\n",
    "g.add_2d_contours(PathExtra+'base_plikHM_TTTEEE_lowl_lowE', 'H0', 'omegam',\n",
    "                  filled=True, color='k');\n",
    "\n",
    "H0_range=np.arange(55,88,0.1)\n",
    "Om_up1=(0.298+0.010236796512)+(H0_range-70)*0.00014\n",
    "Om_low1=(0.298-0.010236796512)+(H0_range-70)*0.00014\n",
    "plt.plot(H0_range,Om_up1,color='red')\n",
    "plt.plot(H0_range,Om_low1,color='red')\n",
    "\n",
    "g.set_axes(lims=[60, 80, 0.265, 0.345])\n",
    "g.export(os.path.join(r'figures',r'Compare_UCstds.pdf'))"
   ]
  },
  {
   "cell_type": "code",
   "execution_count": null,
   "metadata": {},
   "outputs": [],
   "source": []
  },
  {
   "cell_type": "markdown",
   "metadata": {},
   "source": [
    "# Run CMB theta + individual BAO:"
   ]
  },
  {
   "cell_type": "code",
   "execution_count": 5,
   "metadata": {},
   "outputs": [
    {
     "name": "stderr",
     "output_type": "stream",
     "text": [
      "100%|██████████| 3000/3000 [05:34<00:00,  8.96it/s]\n",
      "100%|██████████| 3000/3000 [05:21<00:00,  9.34it/s]\n",
      "100%|██████████| 3000/3000 [06:19<00:00,  7.91it/s]\n",
      "100%|██████████| 3000/3000 [05:24<00:00,  9.23it/s]\n",
      "100%|██████████| 3000/3000 [05:45<00:00,  8.67it/s]\n",
      "100%|██████████| 3000/3000 [05:30<00:00,  9.09it/s]\n"
     ]
    }
   ],
   "source": [
    "ndim, nwalkers, nstep = 7, 64, 3000  # settings for emcee\n",
    "\n",
    "# SN input:\n",
    "pantheon_path='Pantheon_data/lcparam_full_long_zhel.txt'\n",
    "pantheon0 = pd.read_csv(pantheon_path, sep=\" \", header=0)\n",
    "pantheon = pantheon0[['name','zcmb','mb','dmb']]\n",
    "pantheon = pantheon.sort_values(by='zcmb')    # sort SNIa in a z-ascending order for the new algorithm\n",
    "pantheon = pantheon.reset_index()             # have to reset the index, otherwise the index is not sorted\n",
    "Npan = len(pantheon.zcmb)   # number of all SN\n",
    "pan_sys=np.loadtxt(\"Pantheon_data/sys_full_long_sort.txt\")   # systematic errors\n",
    "C_pan = pan_sys+np.diag(pantheon.dmb**2) # including systematic errors\n",
    "invC_pan = np.linalg.inv(C_pan)\n",
    "SN_input=[pantheon,invC_pan]\n",
    "\n",
    "# BAO input:\n",
    "BAO_input= ['BAO_data/',['6df','DR7_MGS','DR12_consensus','DR14_qsar','DR14_lya_qsar','DR14p845']]\n",
    "CMB_means = np.loadtxt('CMB_theta/ACT_theta_means.txt') # z_re, theta (R optional) ### ！！！！！\n",
    "\n",
    "# CMB theta input\n",
    "CMB_Cov = np.loadtxt('CMB_theta/ACT_theta_Cov.txt')    ### ！！！！！\n",
    "CMB_invC = np.linalg.inv(CMB_Cov)\n",
    "# some model insensitive prior on Dltazrec \n",
    "# 3.0025609E+01+-5.4452421E-01 for Planck\n",
    "# 2.9952195E+01+-7.5056623E-01 for ACT+WMAP\n",
    "CMB_input= [CMB_means,CMB_invC,2.9952195E+01,7.5056623E-01]        ### ！！！！！\n",
    "CC_input=[False,'./CC_data/CC_with_ExtraError.txt']\n",
    "\n",
    "# MCMC \n",
    "for BAO_name in ['6df','DR7_MGS','DR12_consensus','DR14_qsar','DR14_lya_qsar','DR14p845']:\n",
    "    BAO_input = ['BAO_data/',[BAO_name]]\n",
    "    save_chain_file = 'chains/Default/ACTtheta_BAO/narrower_h/'+BAO_name+'_'+str(nwalkers)+'_step'+str(nstep)+'.csv'\n",
    "\n",
    "    pos = [[1089.0*(1+0.0002*np.random.randn()),   # z_rec\n",
    "        0.033*(1+0.0005*np.random.randn()),    # rsH0\n",
    "        23.809306*(1+0.0003*np.random.randn()),   # MH0\n",
    "        0.3*(1+0.001*np.random.randn()),         # Omegam\n",
    "        0.7*(1+0.01*np.random.randn()),          # h\n",
    "        30*(1+0.002*np.random.randn()),           # Deltaz_decoupling 3\n",
    "        0.0222*(1+0.002*np.random.randn())] for i in range(nwalkers)]       # omegabh2\n",
    "\n",
    "    sampler_combined=emcee.EnsembleSampler(nwalkers, ndim, lnprob_stds_default, \n",
    "                                       args=(SN_input,BAO_input,CMB_input,CC_input))\n",
    "    sampler_combined.run_mcmc(pos, nstep, progress=True,);\n",
    "    samples_combined = sampler_combined.chain[:, :, :].reshape((-1, ndim))   #filter out first XXX rows\n",
    "    np.savetxt(save_chain_file, samples_combined, delimiter=',')"
   ]
  },
  {
   "cell_type": "code",
   "execution_count": 150,
   "metadata": {},
   "outputs": [
    {
     "name": "stdout",
     "output_type": "stream",
     "text": [
      "CMB+6df\n"
     ]
    },
    {
     "data": {
      "text/latex": [
       "$\\displaystyle Planck: 0.2936\\pm0.0255$"
      ],
      "text/plain": [
       "<IPython.core.display.Math object>"
      ]
     },
     "metadata": {},
     "output_type": "display_data"
    },
    {
     "data": {
      "text/latex": [
       "$\\displaystyle ACT+WMAP: 0.2933\\pm0.032$"
      ],
      "text/plain": [
       "<IPython.core.display.Math object>"
      ]
     },
     "metadata": {},
     "output_type": "display_data"
    },
    {
     "name": "stdout",
     "output_type": "stream",
     "text": [
      "CMB+DR7_MGS\n"
     ]
    },
    {
     "data": {
      "text/latex": [
       "$\\displaystyle Planck: 0.3295\\pm0.0331$"
      ],
      "text/plain": [
       "<IPython.core.display.Math object>"
      ]
     },
     "metadata": {},
     "output_type": "display_data"
    },
    {
     "data": {
      "text/latex": [
       "$\\displaystyle ACT+WMAP: 0.3439\\pm0.0361$"
      ],
      "text/plain": [
       "<IPython.core.display.Math object>"
      ]
     },
     "metadata": {},
     "output_type": "display_data"
    },
    {
     "name": "stdout",
     "output_type": "stream",
     "text": [
      "CMB+DR12_consensus\n"
     ]
    },
    {
     "data": {
      "text/latex": [
       "$\\displaystyle Planck: 0.3012\\pm0.0094$"
      ],
      "text/plain": [
       "<IPython.core.display.Math object>"
      ]
     },
     "metadata": {},
     "output_type": "display_data"
    },
    {
     "data": {
      "text/latex": [
       "$\\displaystyle ACT+WMAP: 0.3015\\pm0.0094$"
      ],
      "text/plain": [
       "<IPython.core.display.Math object>"
      ]
     },
     "metadata": {},
     "output_type": "display_data"
    },
    {
     "name": "stdout",
     "output_type": "stream",
     "text": [
      "CMB+DR14p845\n"
     ]
    },
    {
     "data": {
      "text/latex": [
       "$\\displaystyle Planck: 0.2927\\pm0.0281$"
      ],
      "text/plain": [
       "<IPython.core.display.Math object>"
      ]
     },
     "metadata": {},
     "output_type": "display_data"
    },
    {
     "data": {
      "text/latex": [
       "$\\displaystyle ACT+WMAP: 0.2927\\pm0.0358$"
      ],
      "text/plain": [
       "<IPython.core.display.Math object>"
      ]
     },
     "metadata": {},
     "output_type": "display_data"
    },
    {
     "name": "stdout",
     "output_type": "stream",
     "text": [
      "CMB+DR14_qsar\n"
     ]
    },
    {
     "name": "stderr",
     "output_type": "stream",
     "text": [
      "WARNING:root:auto bandwidth for h very small or failed (h=0.0001967809226941745,N_eff=1922.5726950856995). Using fallback (h=0.08761006655884909)\n"
     ]
    },
    {
     "data": {
      "text/latex": [
       "$\\displaystyle Planck: 0.2952\\pm0.0346$"
      ],
      "text/plain": [
       "<IPython.core.display.Math object>"
      ]
     },
     "metadata": {},
     "output_type": "display_data"
    },
    {
     "data": {
      "text/latex": [
       "$\\displaystyle ACT+WMAP: 0.3156\\pm0.0506$"
      ],
      "text/plain": [
       "<IPython.core.display.Math object>"
      ]
     },
     "metadata": {},
     "output_type": "display_data"
    },
    {
     "name": "stdout",
     "output_type": "stream",
     "text": [
      "CMB+DR14_lya_qsar\n"
     ]
    },
    {
     "data": {
      "text/latex": [
       "$\\displaystyle Planck: 0.2754\\pm0.0347$"
      ],
      "text/plain": [
       "<IPython.core.display.Math object>"
      ]
     },
     "metadata": {},
     "output_type": "display_data"
    },
    {
     "data": {
      "text/latex": [
       "$\\displaystyle ACT+WMAP: 0.2671\\pm0.0419$"
      ],
      "text/plain": [
       "<IPython.core.display.Math object>"
      ]
     },
     "metadata": {},
     "output_type": "display_data"
    },
    {
     "name": "stdout",
     "output_type": "stream",
     "text": [
      "CMB+All_BAO_butconsensus_SN\n"
     ]
    },
    {
     "data": {
      "text/latex": [
       "$\\displaystyle Planck: 0.2991\\pm0.0143$"
      ],
      "text/plain": [
       "<IPython.core.display.Math object>"
      ]
     },
     "metadata": {},
     "output_type": "display_data"
    },
    {
     "data": {
      "text/latex": [
       "$\\displaystyle ACT+WMAP: 0.2993\\pm0.0146$"
      ],
      "text/plain": [
       "<IPython.core.display.Math object>"
      ]
     },
     "metadata": {},
     "output_type": "display_data"
    },
    {
     "name": "stdout",
     "output_type": "stream",
     "text": [
      "CMB+All_BAO_SN\n"
     ]
    },
    {
     "data": {
      "text/latex": [
       "$\\displaystyle Planck: 0.2999\\pm0.0079$"
      ],
      "text/plain": [
       "<IPython.core.display.Math object>"
      ]
     },
     "metadata": {},
     "output_type": "display_data"
    },
    {
     "data": {
      "text/latex": [
       "$\\displaystyle ACT+WMAP: 0.301\\pm0.0082$"
      ],
      "text/plain": [
       "<IPython.core.display.Math object>"
      ]
     },
     "metadata": {},
     "output_type": "display_data"
    }
   ],
   "source": [
    "names = ['zstar','rsH0', 'MH0','omegam','h','Deltazrec','omegabh2']    # put parameters here\n",
    "labels =  [r'z_*',r'r_{\\rm{s}}H_0',r'\\mathcal{M}',r'\\Omega_m',r'h',r'\\Delta z_{dec}','\\Omega_b h^2']\n",
    "Om_means={'Planck':[],'ACT+WMAP':[]}\n",
    "Om_stds={'Planck':[],'ACT+WMAP':[]}\n",
    "for BAO_name in ['6df','DR7_MGS','DR12_consensus','DR14p845','DR14_qsar',\n",
    "                 'DR14_lya_qsar','All_BAO_butconsensus_SN','All_BAO_SN']:\n",
    "    print(r'CMB+'+BAO_name)\n",
    "    for prefix, path_name in zip(['Planck','ACT+WMAP'],['CMB','ACT']):\n",
    "        load_chain_file = 'chains/Default/'+path_name+'theta_BAO/'+ \\\n",
    "                 BAO_name+'_'+str(nwalkers)+'_step'+str(nstep)+'.csv'\n",
    "        samples = np.loadtxt(load_chain_file,delimiter=\",\")\n",
    "        MCsamples = MCSamples(samples=samples,names = names, labels = labels,ranges={'h':(0.55, 0.88)},\n",
    "                      label='Uncalibrated Cosmic Standards',ignore_rows=500)\n",
    "        txt=prefix+': '+str(round(MCsamples.getMargeStats().parWithName('omegam').mean,4))+ \\\n",
    "                '\\pm'+str(round(MCsamples.std('omegam'),4))\n",
    "        display(Math(txt))\n",
    "        Om_means[prefix].append(MCsamples.getMargeStats().parWithName('omegam').mean)\n",
    "        Om_stds[prefix].append(MCsamples.std('omegam'))\n",
    "        "
   ]
  },
  {
   "cell_type": "code",
   "execution_count": 272,
   "metadata": {},
   "outputs": [
    {
     "data": {
      "image/png": "[encoded data removed]",
      "text/plain": [
       "<Figure size 864x396 with 1 Axes>"
      ]
     },
     "metadata": {
      "image/png": {
       "height": 314,
       "width": 755
      },
      "needs_background": "light"
     },
     "output_type": "display_data"
    }
   ],
   "source": [
    "N_bao = len(Om_means['Planck'])\n",
    "fig,ax = plt.subplots(figsize=((N_bao+2)*1.2,5.5))\n",
    "plt.errorbar(-2,0.298,0.022,fmt='og',linewidth=3)\n",
    "plt.errorbar(-1,0.29582,0.01729,fmt='og',linewidth=3) # All BAO\n",
    "for prefix, offset, fmt,ls in zip(['Planck','ACT+WMAP'],[0,0.1],['o','or'],['-',':']):\n",
    "    plt.errorbar(np.arange(N_bao)+offset,Om_means[prefix],Om_stds[prefix],fmt=fmt,linewidth=3)\n",
    "plt.axvline(x=N_bao-2.5,linestyle=':',color='k',linewidth=2)\n",
    "plt.axvline(x=-.5,linestyle=':',color='k',linewidth=2)\n",
    "plt.ylabel(r'$\\Omega_{\\rm{m}}$',fontsize=28)\n",
    "plt.yticks(fontsize=16)\n",
    "plt.axhspan(Om_means['Planck'][-1]-Om_stds['Planck'][-1],\n",
    "                  Om_means['Planck'][-1]+Om_stds['Planck'][-1],color='gray',alpha=0.2)\n",
    "plt.tick_params(axis='x',which='both',bottom=False,top=False,labelbottom=False)\n",
    "plt.text(-2.1, 0.33,'Pantheon',fontsize=16,rotation=90)\n",
    "plt.text(-1.1, 0.322,'All U.C. BAO',fontsize=16,rotation=90)\n",
    "plt.text(-.3, 0.23,r'U.C. $\\theta_{\\rm{CMB}}$ + individual U.C. BAO',fontsize=22)\n",
    "\n",
    "for bao, i in zip(['6df','MGS','Consensus','DR14p845','QSAR',\n",
    "                 'Lya-QSAR','All but Consensus','All'+r' ($'+str(round(Om_means['Planck'][i],3))\n",
    "         +'\\pm'+str(round(Om_stds['Planck'][i],3))+'$, Planck)'],np.arange(N_bao)):\n",
    "    plt.text(i-0.03, max(Om_means['Planck'][i]+Om_stds['Planck'][i],\n",
    "                        Om_means['ACT+WMAP'][i]+Om_stds['ACT+WMAP'][i])+0.007,bao,fontsize=14,rotation=90)\n",
    "\n",
    "plt.ylim(0.22,0.41)\n",
    "plt.savefig('figures/Constraints_Om.pdf', bbox_inches='tight')"
   ]
  },
  {
   "cell_type": "code",
   "execution_count": null,
   "metadata": {},
   "outputs": [],
   "source": []
  },
  {
   "cell_type": "markdown",
   "metadata": {},
   "source": [
    "# Use secondary treatment:"
   ]
  },
  {
   "cell_type": "code",
   "execution_count": null,
   "metadata": {},
   "outputs": [],
   "source": [
    "ndim, nwalkers, nstep = 6, 64, 1000  # settings for emcee\n",
    "# set the path/file to save the chain:\n",
    "save_chain_file = 'chains/UCstds_'+str(nwalkers)+'_step'+str(nstep)+'.csv'\n",
    "\n",
    "SN_input=[pantheon,invC_pan]\n",
    "BAO_input= ['BAO_data/',['6df','DR7_MGS','DR12_consensus','DR14_qsar','DR14_lya_qsar','DR14p845']]\n",
    "CMB_input= [CMB_means,CMB_invC]\n",
    "CC_input=[False,'../3STDs/cosmic_chronometers_data/CC_with_ExtraError.txt']\n",
    "# MCMC \n",
    "pos = [[1089.0*(1+0.0002*np.random.randn()),\n",
    "        0.033*(1+0.0005*np.random.randn()),\n",
    "        23.809306*(1+0.0003*np.random.randn()),\n",
    "        0.3*(1+0.0003*np.random.randn()),\n",
    "        0.7*(1+0.002*np.random.randn()),\n",
    "        5.9707175E-4*(1+0.002*np.random.randn())] for i in range(nwalkers)]\n",
    "\n",
    "sampler_combined=emcee.EnsembleSampler(nwalkers, ndim, lnprob_stds, args=(SN_input,BAO_input,CMB_input,CC_input))\n",
    "sampler_combined.run_mcmc(pos, nstep, progress=True,);\n",
    "\n",
    "samples_combined = sampler_combined.chain[:, 100:, :].reshape((-1, ndim))   #filter out first XXX rows\n",
    "\n",
    "np.savetxt(save_chain_file, samples_combined, delimiter=',')"
   ]
  },
  {
   "cell_type": "markdown",
   "metadata": {},
   "source": [
    "# Calculate Summary Statistics"
   ]
  },
  {
   "cell_type": "code",
   "execution_count": null,
   "metadata": {},
   "outputs": [],
   "source": [
    "load_chain_file = save_chain_file  # choose file to load\n",
    "samples = np.loadtxt(load_chain_file,delimiter=\",\")\n",
    "\n",
    "# Saving Median and upper and lower limits\n",
    "zstar_medianstat,rsH0_medianstat,MH0_medianstat,Om_medianstat,h_medianstat,Deltar_medianstat = map(lambda v: ((v[1], \n",
    "            v[2]-v[1], v[1]-v[0])), zip(*np.percentile(samples, [16, 50, 84], axis=0))) # median + upper - lower\n",
    "    \n",
    "# Saving means and uncertainty\n",
    "zstar_mean,rsH0_mean,MH0_mean,Om_mean,h_mean,Deltar_mean = np.mean(samples,axis=0)\n",
    "zstar_std,rsH0_std,MH0_std,Om_std,h_std,Deltar_std = np.std(samples,axis=0)\n",
    "    \n",
    "print('Median+upper-lower:')\n",
    "# display median + upper -lower of rdH0\n",
    "for MEDIAN, PARAM in zip([Om_medianstat,h_medianstat], ['\\Omega_{\\mathrm{m}}','h']):\n",
    "    txt = \"{3} = {{{0: 2.4f}}}^{{+{1: .4f}}}_{{-{2: .4f}}}\"\n",
    "    txt = txt.format(MEDIAN[0], MEDIAN[1], MEDIAN[2], PARAM)\n",
    "    display(Math(txt))\n",
    "\n",
    "# display mean+-uncertainty\n",
    "print('Mean+-uncertainty:')\n",
    "for MEAN, STD, PARAM in zip([Om_mean,h_mean], [Om_std,h_std], ['\\Omega_{\\mathrm{m}}','h']):\n",
    "    txt = \"{2} = {0: 2.3f}\\pm{1: .3f}\"\n",
    "    txt = txt.format(MEAN, STD, PARAM)\n",
    "    display(Math(txt))"
   ]
  },
  {
   "cell_type": "code",
   "execution_count": null,
   "metadata": {},
   "outputs": [],
   "source": []
  },
  {
   "cell_type": "code",
   "execution_count": null,
   "metadata": {},
   "outputs": [],
   "source": [
    "load_chain_file = save_chain_file # choose file to load\n",
    "samples = np.loadtxt(load_chain_file,delimiter=\",\")\n",
    "names = ['zstar','rsH0', 'MH0','omegam','h','DeltarH0']    # put parameters here\n",
    "labels =  [r'$z_*$',r'$r_{\\rm{s}}H_0$',r'$\\mathcal{M}$',r'$\\Omega_m$',r'$h$',r'$\\Delta r_sH_0$']    # label parameters here\n",
    "MCsamples = MCSamples(samples=samples,names = names, labels = labels,ranges={'h':(0.55, 0.88)},\n",
    "                      label='Uncalibrated Cosmic Standards')\n",
    "p = MCsamples.getParams() \n",
    "MCsamples.addDerived(p.h*100, name='H0', label=r'$H_0$',range=[55,88])\n",
    "g = plots.getSinglePlotter(width_inch=8, ratio=1)\n",
    "g.triangle_plot(MCsamples, ['rsH0', 'MH0','omegam'] , shaded=True)\n",
    "g.export(os.path.join(r'figures',r'Combined.pdf'))"
   ]
  },
  {
   "cell_type": "code",
   "execution_count": null,
   "metadata": {},
   "outputs": [],
   "source": []
  },
  {
   "cell_type": "code",
   "execution_count": null,
   "metadata": {},
   "outputs": [],
   "source": [
    "PathExtra='/Users/weikanglin/Documents/Documents NCSU/Projects/3STDs/chains_new/'\n",
    "g = plots.getSinglePlotter(width_inch=5, ratio=0.8)\n",
    "g.settings.alpha_filled_add=0.5\n",
    "#g.add_y_bands(0.298, 0.022, alpha1=0.2,alpha2=0.2,color='grey',zorder=1)\n",
    "g.add_x_bands(74.03, 1.42, alpha1=0.4,alpha2=0.2, color='yellow',zorder=1) \n",
    "#g.add_x_bands(69.6, 1.88, alpha1=0.3,alpha2=0.23, color='pink',zorder=1) \n",
    "g.plot_2d([MCsamples], 'H0', 'omegam',filled=True,zorder=2)\n",
    "g.add_2d_contours(PathExtra+'base_plikHM_TTTEEE_lowl_lowE', 'H0', 'omegam',\n",
    "                  filled=True, color='k');\n",
    "\n",
    "H0_range=np.arange(55,88,0.1)\n",
    "Om_up1=(0.300322+0.010236796512)+(H0_range-70.579829)*0.0002\n",
    "Om_low1=(0.300322-0.010236796512)+(H0_range-70.579829)*0.0002\n",
    "plt.plot(H0_range,Om_up1,color='red')\n",
    "plt.plot(H0_range,Om_low1,color='red')\n",
    "\n",
    "g.set_axes(lims=[60, 80, 0.265, 0.345])\n",
    "g.export(os.path.join(r'figures',r'Compare_UCstds.pdf'))"
   ]
  },
  {
   "cell_type": "code",
   "execution_count": null,
   "metadata": {},
   "outputs": [],
   "source": []
  },
  {
   "cell_type": "code",
   "execution_count": null,
   "metadata": {},
   "outputs": [],
   "source": [
    "print(MCsamples.PCA(['omegam','H0'],param_map=['N','N']))"
   ]
  },
  {
   "cell_type": "code",
   "execution_count": null,
   "metadata": {},
   "outputs": [],
   "source": [
    "PC1_mean=(1.014188*0.70833402)**(-1/5.172426)*0.299618\n",
    "PC1_std=PC1_mean*(0.170617/1.014188)/5.172426\n",
    "print(PC1_mean,PC1_std)"
   ]
  },
  {
   "cell_type": "code",
   "execution_count": null,
   "metadata": {},
   "outputs": [],
   "source": [
    "0.000888*11.527924"
   ]
  },
  {
   "cell_type": "markdown",
   "metadata": {},
   "source": [
    "# Belows are some preliminary results for LSS"
   ]
  },
  {
   "cell_type": "code",
   "execution_count": null,
   "metadata": {},
   "outputs": [],
   "source": [
    "tempdir='/Users/weikanglin/Documents/Documents NCSU/Projects/3STDs/chains_LSS/DES_withBBN'\n",
    "g = plots.getSinglePlotter(chain_dir=tempdir,width_inch=7, ratio=0.8)\n",
    "g.settings.alpha_filled_add=0.6\n",
    "samples_DES = loadMCSamples(tempdir, settings={'ignore_rows':0.3}); \n",
    "g.plot_2d([samples_DES,MCsamples], 'H0', 'omegam',filled=True)\n",
    "\n",
    "# preliminary:\n",
    "#g.add_2d_covariance(np.array([72.4626984 ,  0.29842372]), \n",
    "#                    np.array([[4.68442296e+01, 1.10692999e-03],[1.10692999e-03, 6.61706597e-05]]),\n",
    "#                    filled=True, color='g',alpha=0.75)\n",
    "\n",
    "g.add_legend(['DES','Uncalibrated Cosmic Standards', 'Preliminary Joint'])\n",
    "g.set_axes(lims=[55, 85, 0.24, 0.36])\n",
    "\n",
    "\n",
    "g.export(os.path.join(r'figures',r'Combined_h_Om_new.pdf'))"
   ]
  },
  {
   "cell_type": "code",
   "execution_count": null,
   "metadata": {},
   "outputs": [],
   "source": []
  },
  {
   "cell_type": "code",
   "execution_count": null,
   "metadata": {},
   "outputs": [],
   "source": [
    "# Saving Median and upper and lower limits\n",
    "# Saving means and uncertainty\n",
    "\n",
    "load_chain_file = save_chain_file # choose file to load\n",
    "samples_all_rulers = np.loadtxt(load_chain_file,delimiter=\",\")\n",
    "names = ['zstar','rsH0', 'MH0','omegam','h']    # put parameters here\n",
    "labels =  [r'$z_*$',r'$r_{\\rm{s}}H_0$',r'$MH_0$',r'$\\Omega_m$',r'$h$']    # label parameters here\n",
    "MCsamples_UCrulers = MCSamples(samples=samples,names = names, labels = labels,ranges={'h':(None, 2)},\n",
    "                      label='Uncalibrated Standard Rulers')\n",
    "p = MCsamples_UCrulers.getParams() \n",
    "MCsamples_UCrulers.addDerived(p.h*100, name='H0', label=r'$H_0$')\n",
    "\n",
    "MEANS = np.mean(samples,axis=0)\n",
    "ERRORS = np.std(samples,axis=0)\n",
    "    \n",
    "print('Median+upper-lower:')\n",
    "\n",
    "# display mean+-uncertainty\n",
    "print('Mean+-uncertainty:')\n",
    "for MEAN, STD, PARAM in zip(MEANS, ERRORS, [r'z_*',r'r_{\\rm{s}}H_0',\n",
    "                                            r'M-5\\log_{10}(10{\\rm{pc}}\\times H_0)',r'\\Omega_m',r'h']):\n",
    "    txt = \"{2} = {0: 2.4f}\\pm{1: .4f}\"\n",
    "    txt = txt.format(MEAN, STD, PARAM)\n",
    "    display(Math(txt))"
   ]
  },
  {
   "cell_type": "code",
   "execution_count": null,
   "metadata": {},
   "outputs": [],
   "source": []
  },
  {
   "cell_type": "code",
   "execution_count": null,
   "metadata": {},
   "outputs": [],
   "source": [
    "CMB_means = np.loadtxt('CMB_theta/CMB_theta_means.txt')\n",
    "CMB_Cov = np.loadtxt('CMB_theta/CMB_theta_Cov.txt')\n",
    "CMB_invC = np.linalg.inv(CMB_Cov)\n",
    "\n",
    "SN_input=[pantheon,invC_pan]\n",
    "BAO_input= ['BAO_data/',['6df','DR7_MGS','DR12_consensus','DR14_qsar','DR14_lya_qsar']]\n",
    "CMB_input= [CMB_means,CMB_invC]\n",
    "lnprob_stds([1089.9515,0.03243,23.809306,0.3,0.70],SN_input,BAO_input,CMB_input)"
   ]
  },
  {
   "cell_type": "code",
   "execution_count": null,
   "metadata": {},
   "outputs": [],
   "source": []
  },
  {
   "cell_type": "code",
   "execution_count": null,
   "metadata": {},
   "outputs": [],
   "source": []
  }
 ],
 "metadata": {
  "kernelspec": {
   "display_name": "Python 3",
   "language": "python",
   "name": "python3"
  },
  "language_info": {
   "codemirror_mode": {
    "name": "ipython",
    "version": 3
   },
   "file_extension": ".py",
   "mimetype": "text/x-python",
   "name": "python",
   "nbconvert_exporter": "python",
   "pygments_lexer": "ipython3",
   "version": "3.8.3"
  }
 },
 "nbformat": 4,
 "nbformat_minor": 2
}
