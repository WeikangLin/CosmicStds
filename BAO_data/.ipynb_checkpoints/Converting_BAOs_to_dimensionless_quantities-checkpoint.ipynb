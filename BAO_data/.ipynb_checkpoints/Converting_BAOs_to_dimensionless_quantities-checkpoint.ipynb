{
 "cells": [
  {
   "cell_type": "code",
   "execution_count": 9,
   "metadata": {},
   "outputs": [],
   "source": [
    "import sys, os\n",
    "sys.path.insert(0,os.path.realpath(os.path.join(os.getcwd(),'..'))) # This can load modules from a different folder\n",
    "import numpy as np\n",
    "import WLbackground_cosmic_stds as BG\n",
    "%matplotlib inline\n",
    "import pylab as plt\n",
    "%config InlineBackend.figure_format = 'retina'\n",
    "from getdist import plots, MCSamples, loadMCSamples\n",
    "import getdist\n",
    "import matplotlib.pyplot as plt\n",
    "import IPython\n",
    "from IPython.display import display, Math"
   ]
  },
  {
   "cell_type": "code",
   "execution_count": null,
   "metadata": {},
   "outputs": [],
   "source": [
    "BG.fC_LCDM(1000,0.3,0.74,0.0)"
   ]
  },
  {
   "cell_type": "code",
   "execution_count": null,
   "metadata": {},
   "outputs": [],
   "source": []
  },
  {
   "cell_type": "code",
   "execution_count": null,
   "metadata": {},
   "outputs": [],
   "source": [
    "# 6df\n",
    "z_eff_6df = 0.106\n",
    "np.savetxt('BAO_data/6df_measurement.txt',[0.336, 0.015], delimiter=' ')\n",
    "np.savetxt('BAO_data/6df_zeff.txt',[z_eff_6df], delimiter=' ')"
   ]
  },
  {
   "cell_type": "code",
   "execution_count": null,
   "metadata": {},
   "outputs": [],
   "source": [
    "# DR7 MGS:\n",
    "z_eff_MGS = 0.15\n",
    "rdH0_o_fV = 1/4.465666824\n",
    "drdh0_o_fV = 1/4.465666824**2*.1681350461\n",
    "\n",
    "np.savetxt('BAO_data/DR7_MGS_measurement.txt',[rdH0_o_fV,drdh0_o_fV], delimiter=' ')\n",
    "np.savetxt('BAO_data/DR7_MGS_zeff.txt',[z_eff_MGS], delimiter=' ')"
   ]
  },
  {
   "cell_type": "code",
   "execution_count": 22,
   "metadata": {},
   "outputs": [
    {
     "ename": "OSError",
     "evalue": "/Users/weikanglin/GitHub/CosmoMC/data/DR12/BAO_consensus_covtot_dM_Hz.txt not found.",
     "output_type": "error",
     "traceback": [
      "\u001b[0;31m---------------------------------------------------------------------------\u001b[0m",
      "\u001b[0;31mOSError\u001b[0m                                   Traceback (most recent call last)",
      "\u001b[0;32m<ipython-input-22-7f65d342cd2b>\u001b[0m in \u001b[0;36m<module>\u001b[0;34m\u001b[0m\n\u001b[1;32m      7\u001b[0m \u001b[0;34m\u001b[0m\u001b[0m\n\u001b[1;32m      8\u001b[0m \u001b[0;31m# covariance matrix of the above\u001b[0m\u001b[0;34m\u001b[0m\u001b[0;34m\u001b[0m\u001b[0;34m\u001b[0m\u001b[0m\n\u001b[0;32m----> 9\u001b[0;31m \u001b[0mCov_dr12\u001b[0m \u001b[0;34m=\u001b[0m \u001b[0mnp\u001b[0m\u001b[0;34m.\u001b[0m\u001b[0mloadtxt\u001b[0m\u001b[0;34m(\u001b[0m\u001b[0;34m\"/Users/weikanglin/GitHub/CosmoMC/data/DR12/BAO_consensus_covtot_dM_Hz.txt\"\u001b[0m\u001b[0;34m,\u001b[0m\u001b[0mdelimiter\u001b[0m\u001b[0;34m=\u001b[0m\u001b[0;34m' '\u001b[0m\u001b[0;34m)\u001b[0m\u001b[0;34m\u001b[0m\u001b[0;34m\u001b[0m\u001b[0m\n\u001b[0m\u001b[1;32m     10\u001b[0m \u001b[0;34m\u001b[0m\u001b[0m\n\u001b[1;32m     11\u001b[0m \u001b[0;34m\u001b[0m\u001b[0m\n",
      "\u001b[0;32m/opt/anaconda3/lib/python3.8/site-packages/numpy/lib/npyio.py\u001b[0m in \u001b[0;36mloadtxt\u001b[0;34m(fname, dtype, comments, delimiter, converters, skiprows, usecols, unpack, ndmin, encoding, max_rows)\u001b[0m\n\u001b[1;32m    979\u001b[0m             \u001b[0mfname\u001b[0m \u001b[0;34m=\u001b[0m \u001b[0mos_fspath\u001b[0m\u001b[0;34m(\u001b[0m\u001b[0mfname\u001b[0m\u001b[0;34m)\u001b[0m\u001b[0;34m\u001b[0m\u001b[0;34m\u001b[0m\u001b[0m\n\u001b[1;32m    980\u001b[0m         \u001b[0;32mif\u001b[0m \u001b[0m_is_string_like\u001b[0m\u001b[0;34m(\u001b[0m\u001b[0mfname\u001b[0m\u001b[0;34m)\u001b[0m\u001b[0;34m:\u001b[0m\u001b[0;34m\u001b[0m\u001b[0;34m\u001b[0m\u001b[0m\n\u001b[0;32m--> 981\u001b[0;31m             \u001b[0mfh\u001b[0m \u001b[0;34m=\u001b[0m \u001b[0mnp\u001b[0m\u001b[0;34m.\u001b[0m\u001b[0mlib\u001b[0m\u001b[0;34m.\u001b[0m\u001b[0m_datasource\u001b[0m\u001b[0;34m.\u001b[0m\u001b[0mopen\u001b[0m\u001b[0;34m(\u001b[0m\u001b[0mfname\u001b[0m\u001b[0;34m,\u001b[0m \u001b[0;34m'rt'\u001b[0m\u001b[0;34m,\u001b[0m \u001b[0mencoding\u001b[0m\u001b[0;34m=\u001b[0m\u001b[0mencoding\u001b[0m\u001b[0;34m)\u001b[0m\u001b[0;34m\u001b[0m\u001b[0;34m\u001b[0m\u001b[0m\n\u001b[0m\u001b[1;32m    982\u001b[0m             \u001b[0mfencoding\u001b[0m \u001b[0;34m=\u001b[0m \u001b[0mgetattr\u001b[0m\u001b[0;34m(\u001b[0m\u001b[0mfh\u001b[0m\u001b[0;34m,\u001b[0m \u001b[0;34m'encoding'\u001b[0m\u001b[0;34m,\u001b[0m \u001b[0;34m'latin1'\u001b[0m\u001b[0;34m)\u001b[0m\u001b[0;34m\u001b[0m\u001b[0;34m\u001b[0m\u001b[0m\n\u001b[1;32m    983\u001b[0m             \u001b[0mfh\u001b[0m \u001b[0;34m=\u001b[0m \u001b[0miter\u001b[0m\u001b[0;34m(\u001b[0m\u001b[0mfh\u001b[0m\u001b[0;34m)\u001b[0m\u001b[0;34m\u001b[0m\u001b[0;34m\u001b[0m\u001b[0m\n",
      "\u001b[0;32m/opt/anaconda3/lib/python3.8/site-packages/numpy/lib/_datasource.py\u001b[0m in \u001b[0;36mopen\u001b[0;34m(path, mode, destpath, encoding, newline)\u001b[0m\n\u001b[1;32m    267\u001b[0m \u001b[0;34m\u001b[0m\u001b[0m\n\u001b[1;32m    268\u001b[0m     \u001b[0mds\u001b[0m \u001b[0;34m=\u001b[0m \u001b[0mDataSource\u001b[0m\u001b[0;34m(\u001b[0m\u001b[0mdestpath\u001b[0m\u001b[0;34m)\u001b[0m\u001b[0;34m\u001b[0m\u001b[0;34m\u001b[0m\u001b[0m\n\u001b[0;32m--> 269\u001b[0;31m     \u001b[0;32mreturn\u001b[0m \u001b[0mds\u001b[0m\u001b[0;34m.\u001b[0m\u001b[0mopen\u001b[0m\u001b[0;34m(\u001b[0m\u001b[0mpath\u001b[0m\u001b[0;34m,\u001b[0m \u001b[0mmode\u001b[0m\u001b[0;34m,\u001b[0m \u001b[0mencoding\u001b[0m\u001b[0;34m=\u001b[0m\u001b[0mencoding\u001b[0m\u001b[0;34m,\u001b[0m \u001b[0mnewline\u001b[0m\u001b[0;34m=\u001b[0m\u001b[0mnewline\u001b[0m\u001b[0;34m)\u001b[0m\u001b[0;34m\u001b[0m\u001b[0;34m\u001b[0m\u001b[0m\n\u001b[0m\u001b[1;32m    270\u001b[0m \u001b[0;34m\u001b[0m\u001b[0m\n\u001b[1;32m    271\u001b[0m \u001b[0;34m\u001b[0m\u001b[0m\n",
      "\u001b[0;32m/opt/anaconda3/lib/python3.8/site-packages/numpy/lib/_datasource.py\u001b[0m in \u001b[0;36mopen\u001b[0;34m(self, path, mode, encoding, newline)\u001b[0m\n\u001b[1;32m    621\u001b[0m                                       encoding=encoding, newline=newline)\n\u001b[1;32m    622\u001b[0m         \u001b[0;32melse\u001b[0m\u001b[0;34m:\u001b[0m\u001b[0;34m\u001b[0m\u001b[0;34m\u001b[0m\u001b[0m\n\u001b[0;32m--> 623\u001b[0;31m             \u001b[0;32mraise\u001b[0m \u001b[0mIOError\u001b[0m\u001b[0;34m(\u001b[0m\u001b[0;34m\"%s not found.\"\u001b[0m \u001b[0;34m%\u001b[0m \u001b[0mpath\u001b[0m\u001b[0;34m)\u001b[0m\u001b[0;34m\u001b[0m\u001b[0;34m\u001b[0m\u001b[0m\n\u001b[0m\u001b[1;32m    624\u001b[0m \u001b[0;34m\u001b[0m\u001b[0m\n\u001b[1;32m    625\u001b[0m \u001b[0;34m\u001b[0m\u001b[0m\n",
      "\u001b[0;31mOSError\u001b[0m: /Users/weikanglin/GitHub/CosmoMC/data/DR12/BAO_consensus_covtot_dM_Hz.txt not found."
     ]
    }
   ],
   "source": [
    "# For DR12, we used BAO only\n",
    "#BAO-only consensus results, Alam et al. 2016\n",
    "#https://arxiv.org/abs/1607.03155\n",
    "z_eff_dr12 = [0.38, 0.51, 0.61]     # effective redshifts\n",
    "DM_over_rs_dr12 = np.array([1512.39, 1975.22, 2306.68])     # DM/rd with rd_fid=147.78 \n",
    "bao_Hz_rs_dr12 = np.array([81.2087, 90.9029, 98.9647])      # H(z)*rd   with rd_fid=147.78 \n",
    "\n",
    "# covariance matrix of the above\n",
    "Cov_dr12 = np.loadtxt(\"/Users/weikanglin/GitHub/CosmoMC/data/DR12/BAO_consensus_covtot_dM_Hz.txt\",delimiter=' ')\n",
    "\n",
    "\n",
    "\n",
    "rs_fid=147.78    # fiducial value of rs_fid\n",
    "c=299792.458 #km/s   speed of light\n",
    "# conversion of DM_over_rs\n",
    "theta_d_dr12 = rs_fid/DM_over_rs_dr12     # transf\n",
    "\n",
    "# conversion of Hz_rs\n",
    "delta_z_dr12 = bao_Hz_rs_dr12*rs_fid/c\n",
    "\n",
    "# putting the observables together, with the order corresponding to the order of the covariance matrix\n",
    "theta_deltaz_dr12 = np.array([theta_d_dr12[0],delta_z_dr12[0],\n",
    "                              theta_d_dr12[1],delta_z_dr12[1],\n",
    "                              theta_d_dr12[2],delta_z_dr12[2]])\n",
    "\n",
    "# Jacobian matrix:\n",
    "J = np.diag([-1/1512.39**2, 1/c, -1/1975.22**2, 1/c, -1/2306.68**2, 1/c])*rs_fid\n",
    "\n",
    "# covariance matrix of theta and delta_z:\n",
    "C_theta_deltaz_dr12 = np.dot(np.dot(J,Cov_dr12),J)\n",
    "\n",
    "np.savetxt('DR12_consensus_measurement.txt',theta_deltaz_dr12, delimiter=' ')\n",
    "np.savetxt('DR12_consensus_C.txt',C_theta_deltaz_dr12, delimiter=' ')\n",
    "np.savetxt('DR12_consensus_zeff.txt',z_eff_dr12, delimiter=' ')"
   ]
  },
  {
   "cell_type": "code",
   "execution_count": null,
   "metadata": {},
   "outputs": [],
   "source": []
  },
  {
   "cell_type": "code",
   "execution_count": null,
   "metadata": {},
   "outputs": [],
   "source": [
    "#DR14 quasar, https://arxiv.org/abs/1705.06373\n",
    "DV_over_rs_and_uncertainty = np.array([26.086, 1.150])\n",
    "rdH0_o_fV = 1/26.086\n",
    "drdh0_o_fV = 1/26.086**2*1.150\n",
    "z_eff_dr14_quasar = 1.52\n",
    "\n",
    "np.savetxt('BAO_data/DR14_qsar_measurement.txt',[rdH0_o_fV,drdh0_o_fV], delimiter=' ')\n",
    "np.savetxt('BAO_data/DR14_qsar_zeff.txt',[z_eff_dr14_quasar], delimiter=' ')"
   ]
  },
  {
   "cell_type": "code",
   "execution_count": null,
   "metadata": {},
   "outputs": [],
   "source": []
  },
  {
   "cell_type": "code",
   "execution_count": null,
   "metadata": {},
   "outputs": [],
   "source": [
    "# Lya auto and Lya-qsar cross 1904.03430\n",
    "\n",
    "DR14_dilation_data = np.loadtxt(\"/Users/weikanglin/GitHub/CosmoMC/data/sdss_DR14_LYAUTO_LYxQSO_bao.dat\",\n",
    "                                delimiter=' ')\n",
    "X = np.reshape(DR14_dilation_data[:,0],[21,18])\n",
    "Y = np.reshape(DR14_dilation_data[:,1],[21,18])\n",
    "P_alphas = np.reshape(DR14_dilation_data[:,2],[21,18])\n",
    "alpha_plels = DR14_dilation_data[0:18,1]\n",
    "alpha_pers = DR14_dilation_data[np.arange(0,378,18),0]\n",
    "Z = -2*np.log(P_alphas)\n",
    "plt.contourf(X, Y, Z)"
   ]
  },
  {
   "cell_type": "code",
   "execution_count": null,
   "metadata": {},
   "outputs": [],
   "source": [
    "# checking the numbers with files given in CosmoMC\n",
    "P_marg_alpha_plel = np.sum(P_alphas,axis=0)\n",
    "P_marg_alpha_plel = P_marg_alpha_plel/np.sum(P_marg_alpha_plel)\n",
    "P_marg_alpha_per = np.sum(P_alphas,axis=1)\n",
    "P_marg_alpha_per = P_marg_alpha_per/np.sum(P_marg_alpha_per)\n",
    "\n",
    "mean_alpha_plel = np.sum(P_marg_alpha_plel*alpha_plels)\n",
    "delta_alpha_plel = np.sqrt(np.sum(P_marg_alpha_plel*(alpha_plels)**2)-mean_alpha_plel**2)\n",
    "mean_alpha_per = np.sum(P_marg_alpha_per*alpha_pers)\n",
    "delta_alpha_per = np.sqrt(np.sum(P_marg_alpha_per*(alpha_pers)**2)-mean_alpha_per**2)\n",
    "\n",
    "temp=0\n",
    "for i in np.arange(21):\n",
    "    for j in np.arange(18):\n",
    "        temp = temp + P_alphas[i,j]*(alpha_pers[i]-mean_alpha_per)*(alpha_plels[j]-mean_alpha_plel)\n",
    "rho_alphas = temp/np.sum(P_alphas)/delta_alpha_plel/delta_alpha_per  # correlation coefficient"
   ]
  },
  {
   "cell_type": "code",
   "execution_count": null,
   "metadata": {},
   "outputs": [],
   "source": [
    "# Numbers given in https://arxiv.org/pdf/1904.03430.pdf\n",
    "alpha_plel_mean = 1.049\n",
    "dalpha_plel = 0.026\n",
    "alpha_per_mean = 0.942\n",
    "dalpha_per = 0.031\n",
    "rho_plel_per = -0.41\n",
    "DH_o_rd_fid = 8.55\n",
    "DM_o_rd_fid = 39.35\n",
    "\n",
    "\n",
    "DM_o_rd=alpha_per_mean*DM_o_rd_fid\n",
    "theta_d = 1/DM_o_rd\n",
    "dDM_o_rd = dalpha_per*DM_o_rd_fid\n",
    "\n",
    "DH_o_rd = alpha_plel_mean*DH_o_rd_fid\n",
    "delta_z_d = 1/DH_o_rd\n",
    "dDH_o_rd = dalpha_plel*DH_o_rd_fid\n",
    "\n",
    "C_DM_DH = np.array([[dDM_o_rd**2,dDH_o_rd*dDM_o_rd*rho_plel_per],[dDH_o_rd*dDM_o_rd*rho_plel_per,dDH_o_rd**2]])\n",
    "J = np.diag([-1/DM_o_rd**2,-1/DH_o_rd**2])\n",
    "C_theta_deltaz_dr14_ly_qsar = np.dot(np.dot(J,C_DM_DH),J)\n",
    "\n",
    "np.savetxt('BAO_data/DR14_lya_qsar_measurement.txt',[theta_d, delta_z_d], delimiter=' ')\n",
    "np.savetxt('BAO_data/DR14_lya_qsar_C.txt',C_theta_deltaz_dr14_ly_qsar, delimiter=' ')\n",
    "np.savetxt('BAO_data/DR14_lya_qsar_zeff.txt',[2.35], delimiter=' ')"
   ]
  },
  {
   "cell_type": "code",
   "execution_count": 23,
   "metadata": {},
   "outputs": [],
   "source": [
    "# 2007.09010:\n",
    "zeff=0.77\n",
    "DMord=18.86\n",
    "DHord=19.64\n",
    "\n",
    "theta_d=1/DMord\n",
    "delta_z_d=1/DHord\n",
    "\n",
    "Cov_origin=np.array([[141.0707, -15.7168],[-15.7168, 321.7959]])/1000\n",
    "J=np.diag([-1/DMord**2,-1/DHord**2])\n",
    "C_theta_deltaz_p77 = np.dot(np.dot(J,Cov_origin),J)\n",
    "\n",
    "np.savetxt('DR16_LRG_ELG_measurement.txt',[theta_d, delta_z_d], delimiter=' ')\n",
    "np.savetxt('DR16_LRG_ELG_C.txt',C_theta_deltaz_p77, delimiter=' ')\n",
    "np.savetxt('DR16_LRG_ELG_zeff.txt',[0.77], delimiter=' ')"
   ]
  },
  {
   "cell_type": "code",
   "execution_count": 31,
   "metadata": {},
   "outputs": [
    {
     "data": {
      "text/plain": [
       "0.0014706430887415235"
      ]
     },
     "execution_count": 31,
     "metadata": {},
     "output_type": "execute_result"
    }
   ],
   "source": [
    "C_theta_deltaz_p77[1,1]**0.5"
   ]
  },
  {
   "cell_type": "code",
   "execution_count": 26,
   "metadata": {},
   "outputs": [
    {
     "data": {
      "text/plain": [
       "[<matplotlib.lines.Line2D at 0x7f929d1178b0>]"
      ]
     },
     "execution_count": 26,
     "metadata": {},
     "output_type": "execute_result"
    },
    {
     "data": {
      "image/png": "[encoded data removed]",
      "text/plain": [
       "<Figure size 360x360 with 1 Axes>"
      ]
     },
     "metadata": {
      "image/png": {
       "height": 302,
       "width": 306
      },
      "needs_background": "light"
     },
     "output_type": "display_data"
    }
   ],
   "source": [
    "BAO_data_path='../BAO_data/'\n",
    "BAO_datasets= ['DR16_LRG_ELG','DR12_consensus','DR14_lya_qsar']\n",
    "\n",
    "g = plots.getSubplotPlotter(subplot_size=5)\n",
    "for BAO_dataset in BAO_datasets:\n",
    "    zeff = np.loadtxt(BAO_data_path+BAO_dataset+'_zeff.txt')\n",
    "    if zeff.size==1:\n",
    "        means = np.loadtxt(BAO_data_path+BAO_dataset+'_measurement.txt') # in theta, deltaz\n",
    "        Cov = np.loadtxt(BAO_data_path+BAO_dataset+'_C.txt')\n",
    "        means2 = np.array([(means[0]**2*means[1]/zeff)**(1/3)  , means[1]/means[0]])    # in rdH0/fV, F_AP\n",
    "        J = np.array([[2/3*means2[0]/means[0],1/3*means2[0]/means[1]],[-means[1]/means[0]**2,1/means[0]]])\n",
    "        Cov2= np.dot(np.dot(J,Cov),np.transpose(J))\n",
    "        g.add_2d_covariance(means2, Cov2,filled=True)\n",
    "    else:\n",
    "        means_all= np.loadtxt(BAO_data_path+BAO_dataset+'_measurement.txt')\n",
    "        Cov_all = np.loadtxt(BAO_data_path+BAO_dataset+'_C.txt')\n",
    "        for i in np.arange(zeff.size):\n",
    "            means = means_all[2*i:2*i+2]\n",
    "            Cov = Cov_all[2*i:2*i+2,2*i:2*i+2]\n",
    "            means2 = np.array([(means[0]**2*means[1]/zeff[i])**(1/3)  , means[1]/means[0]])    # in rdH0/fV, F_AP\n",
    "            J = np.array([[2/3*means2[0]/means[0],1/3*means2[0]/means[1]],[-means[1]/means[0]**2,1/means[0]]])\n",
    "            Cov2= np.dot(np.dot(J,Cov),np.transpose(J))\n",
    "            g.add_2d_covariance(means2, Cov2,filled=True)\n",
    "\n",
    "            \n",
    "z_range = np.linspace(0.36,2.4,200)\n",
    "rdH0_fV=[]\n",
    "FAP=[]\n",
    "Om_fid=0.3153\n",
    "for z in z_range:\n",
    "    rdH0_fV.append(147.09*67.36/300000/BG.fV_LCDM(z,Om_fid))\n",
    "    FAP.append(BG.Ez_flat_LCDM(z,Om_fid)*BG.fC_LCDM(z,Om_fid))\n",
    "g.subplots[0,0].plot(rdH0_fV, FAP,'r:',lw=1)"
   ]
  },
  {
   "cell_type": "code",
   "execution_count": null,
   "metadata": {},
   "outputs": [],
   "source": []
  },
  {
   "cell_type": "code",
   "execution_count": 1,
   "metadata": {},
   "outputs": [],
   "source": []
  },
  {
   "cell_type": "code",
   "execution_count": null,
   "metadata": {},
   "outputs": [],
   "source": []
  },
  {
   "cell_type": "code",
   "execution_count": null,
   "metadata": {},
   "outputs": [],
   "source": []
  }
 ],
 "metadata": {
  "kernelspec": {
   "display_name": "Python 3",
   "language": "python",
   "name": "python3"
  },
  "language_info": {
   "codemirror_mode": {
    "name": "ipython",
    "version": 3
   },
   "file_extension": ".py",
   "mimetype": "text/x-python",
   "name": "python",
   "nbconvert_exporter": "python",
   "pygments_lexer": "ipython3",
   "version": "3.8.3"
  }
 },
 "nbformat": 4,
 "nbformat_minor": 2
}
