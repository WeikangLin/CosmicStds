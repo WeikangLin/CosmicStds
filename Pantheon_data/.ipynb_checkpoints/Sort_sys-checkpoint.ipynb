{
 "cells": [
  {
   "cell_type": "code",
   "execution_count": 3,
   "metadata": {},
   "outputs": [],
   "source": [
    "import numpy as np\n",
    "import pandas as pd\n",
    "\n",
    "\n",
    "pantheon = pd.read_csv('./lcparam_full_long_zhel.txt', sep=\" \", header=0)\n",
    "pantheon = pantheon.sort_values(by='zcmb')\n",
    "Npan = len(pantheon.zcmb)\n",
    "\n",
    "pan_sys = np.loadtxt(\"./sys_full_long.txt\") \n",
    "pan_sys = pan_sys[1:].reshape((int(pan_sys[0]), int(pan_sys[0])))\n",
    "pan_sys_sort_1 = np.zeros([Npan,Npan])    # to sort rows\n",
    "pan_sys_sort_both = np.zeros([Npan,Npan]) # to sort coloumns as well\n",
    "for i in np.arange(Npan):\n",
    "    pan_sys_sort_1[i] = pan_sys[pantheon.index[i]]  # sorting rows\n",
    "pan_sys_sort_1 = pan_sys_sort_1.transpose()         # sorting columns as well\n",
    "for i in np.arange(Npan):\n",
    "    pan_sys_sort_both[i] = pan_sys_sort_1[pantheon.index[i]]\n",
    "np.savetxt('./sys_full_long_sort.txt', pan_sys_sort_both, fmt='%e')        # save the sorted files"
   ]
  },
  {
   "cell_type": "code",
   "execution_count": null,
   "metadata": {},
   "outputs": [],
   "source": []
  }
 ],
 "metadata": {
  "kernelspec": {
   "display_name": "Python 3",
   "language": "python",
   "name": "python3"
  },
  "language_info": {
   "codemirror_mode": {
    "name": "ipython",
    "version": 3
   },
   "file_extension": ".py",
   "mimetype": "text/x-python",
   "name": "python",
   "nbconvert_exporter": "python",
   "pygments_lexer": "ipython3",
   "version": "3.7.3"
  }
 },
 "nbformat": 4,
 "nbformat_minor": 2
}
